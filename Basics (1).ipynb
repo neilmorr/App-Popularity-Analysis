{
 "cells": [
  {
   "cell_type": "markdown",
   "metadata": {},
   "source": [
    "# App Popularity Analysis\n",
    "\n",
    "This project is designed to help app developers identify common traits among the most popular apps.\n",
    "\n",
    "We will be analyzing two data sets. The first set is from August 2018 and contains data from approximately 10,00 Android apps on the Google Play Store. The second set is from July 2017 and contains data from approximately 7,000 iOS apps from the App Store."
   ]
  },
  {
   "cell_type": "markdown",
   "metadata": {},
   "source": [
    "### Exploring the Data\n",
    "\n",
    "To begin, we will create a function that allows us to explore these two data sets in more detail. This function will import a data set, print the rows we'd like to see, and (optionally) print the number of rows and columns in the range we've selected."
   ]
  },
  {
   "cell_type": "code",
   "execution_count": 1,
   "metadata": {
    "collapsed": false
   },
   "outputs": [],
   "source": [
    "from csv import reader\n",
    "\n",
    "# Imports data, slices rows based on start and end arguments, and prints sliced list \n",
    "\n",
    "def explore_data(dataset, start, end, rows_and_columns=False):\n",
    "    dataset_slice = dataset[start:end]    \n",
    "    for row in dataset_slice:\n",
    "        print(row)\n",
    "        print('\\n') \n",
    "\n",
    "# If rows_and_columns argument is True, prints number of rows and columns\n",
    "\n",
    "    if rows_and_columns:\n",
    "        print('Number of rows:', len(dataset))\n",
    "        print('Number of columns:', len(dataset[0]))\n"
   ]
  },
  {
   "cell_type": "markdown",
   "metadata": {},
   "source": [
    "Now that we have a working function that explores a data set, we can import the two sets that we're analyzing for this project."
   ]
  },
  {
   "cell_type": "code",
   "execution_count": 2,
   "metadata": {
    "collapsed": true
   },
   "outputs": [],
   "source": [
    "# Opening and reading App Store data, then converting to list of lists\n",
    "\n",
    "opened_ios = open('AppleStore.csv')\n",
    "read_ios = reader(opened_ios)\n",
    "list_ios = list(read_ios)\n",
    "\n",
    "# Opening and reading Google Play data, then converting to list of lists\n",
    "\n",
    "opened_android = open('googleplaystore.csv')\n",
    "read_android = reader(opened_android)\n",
    "list_android = list(read_android)"
   ]
  },
  {
   "cell_type": "markdown",
   "metadata": {},
   "source": [
    "With our data imported and formatted as a list of lists, we can use the exploratory function we created earlier to view the contents of each data set."
   ]
  },
  {
   "cell_type": "code",
   "execution_count": 3,
   "metadata": {
    "collapsed": false,
    "scrolled": true
   },
   "outputs": [
    {
     "name": "stdout",
     "output_type": "stream",
     "text": [
      "['284882215', 'Facebook', '389879808', 'USD', '0.0', '2974676', '212', '3.5', '3.5', '95.0', '4+', 'Social Networking', '37', '1', '29', '1']\n",
      "\n",
      "\n",
      "['389801252', 'Instagram', '113954816', 'USD', '0.0', '2161558', '1289', '4.5', '4.0', '10.23', '12+', 'Photo & Video', '37', '0', '29', '1']\n",
      "\n",
      "\n",
      "['529479190', 'Clash of Clans', '116476928', 'USD', '0.0', '2130805', '579', '4.5', '4.5', '9.24.12', '9+', 'Games', '38', '5', '18', '1']\n",
      "\n",
      "\n",
      "Number of rows: 7197\n",
      "Number of columns: 16\n",
      "\n",
      "\n",
      "['Photo Editor & Candy Camera & Grid & ScrapBook', 'ART_AND_DESIGN', '4.1', '159', '19M', '10,000+', 'Free', '0', 'Everyone', 'Art & Design', 'January 7, 2018', '1.0.0', '4.0.3 and up']\n",
      "\n",
      "\n",
      "['Coloring book moana', 'ART_AND_DESIGN', '3.9', '967', '14M', '500,000+', 'Free', '0', 'Everyone', 'Art & Design;Pretend Play', 'January 15, 2018', '2.0.0', '4.0.3 and up']\n",
      "\n",
      "\n",
      "['U Launcher Lite – FREE Live Cool Themes, Hide Apps', 'ART_AND_DESIGN', '4.7', '87510', '8.7M', '5,000,000+', 'Free', '0', 'Everyone', 'Art & Design', 'August 1, 2018', '1.2.4', '4.0.3 and up']\n",
      "\n",
      "\n",
      "Number of rows: 10841\n",
      "Number of columns: 13\n"
     ]
    }
   ],
   "source": [
    "explore_data(list_ios[1:], 0, 3, True)\n",
    "print('\\n')\n",
    "explore_data(list_android[1:], 0, 3, True)"
   ]
  },
  {
   "cell_type": "markdown",
   "metadata": {},
   "source": [
    "Let's also print the header row of each data set to see which columns may be useful in the next stages of our analysis."
   ]
  },
  {
   "cell_type": "code",
   "execution_count": 4,
   "metadata": {
    "collapsed": false,
    "scrolled": true
   },
   "outputs": [
    {
     "name": "stdout",
     "output_type": "stream",
     "text": [
      "['App', 'Category', 'Rating', 'Reviews', 'Size', 'Installs', 'Type', 'Price', 'Content Rating', 'Genres', 'Last Updated', 'Current Ver', 'Android Ver']\n",
      "\n",
      "\n",
      "['id', 'track_name', 'size_bytes', 'currency', 'price', 'rating_count_tot', 'rating_count_ver', 'user_rating', 'user_rating_ver', 'ver', 'cont_rating', 'prime_genre', 'sup_devices.num', 'ipadSc_urls.num', 'lang.num', 'vpp_lic']\n"
     ]
    }
   ],
   "source": [
    "print(list_android[0])\n",
    "print('\\n')\n",
    "print(list_ios[0])"
   ]
  },
  {
   "cell_type": "markdown",
   "metadata": {},
   "source": [
    "### Identifying relevant fields\n",
    "\n",
    "Based on the header rows of each data set, the following fields look relevant to our analysis: Category, Reviews, Installs, Type, Price, price, rating_count_tot, cont_rating, prime_genre, sup_devices.num, ipadSc_urls.num, vpp_lic.\n",
    "\n",
    "Here is the supporting documentation for the two data sets, which provides more context for each of the column fields:\n",
    "\n",
    "[AppleStore.csv](https://www.kaggle.com/ramamet4/app-store-apple-data-set-10k-apps/home) \n",
    "\n",
    "[googleplaystore.csv](https://www.kaggle.com/lava18/google-play-store-apps/home)"
   ]
  },
  {
   "cell_type": "markdown",
   "metadata": {},
   "source": [
    "### Cleaning the Data\n",
    "\n",
    "Before we jump into analyzing our data sets, we must ensure that there are no errors that could skew our results.\n",
    "\n",
    "When we read through the documentation of the Google Play data set, we can see that other users have flagged an issue with row 10473. It appears that the \"Category\" column is missing, which is causing subsequent columns to erroneously shift. We will remove this entry."
   ]
  },
  {
   "cell_type": "code",
   "execution_count": 5,
   "metadata": {
    "collapsed": false,
    "scrolled": true
   },
   "outputs": [
    {
     "name": "stdout",
     "output_type": "stream",
     "text": [
      "['Life Made WI-Fi Touchscreen Photo Frame', '1.9', '19', '3.0M', '1,000+', 'Free', '0', 'Everyone', '', 'February 11, 2018', '1.0.19', '4.0 and up']\n"
     ]
    }
   ],
   "source": [
    "print(list_android[10473])\n",
    "del list_android[10473]"
   ]
  },
  {
   "cell_type": "markdown",
   "metadata": {},
   "source": [
    "### Removing Duplicate Entries\n",
    "\n",
    "Upon inspection of the Google Play dataset, we can see that there are a number of duplicate entries. To filter out any duplicates, we can loop through each row and inspect the \"App\" column. For each loop, we need to do two things: \n",
    "\n",
    "1) Check to see if we've already encountered the app. We can do this by creating an empty list that will store the names of apps we've encountered for the first time. When we encounter an app name, we'll check to see if the app exists in this list. If it doesn't, it means it's the first time we've encountered that app in the data set, so we need to add it.\n",
    "\n",
    "2) If the app name already exists in the list we've created, we need to record that app as a duplicate. We'll create a second list to store these duplicate apps."
   ]
  },
  {
   "cell_type": "code",
   "execution_count": 6,
   "metadata": {
    "collapsed": false,
    "scrolled": true
   },
   "outputs": [
    {
     "name": "stdout",
     "output_type": "stream",
     "text": [
      "['Quick PDF Scanner + OCR FREE', 'Box', 'Google My Business']\n",
      "1181\n"
     ]
    }
   ],
   "source": [
    "# Looping through Play Store dataset, identifying if a row is unique or a duplicate, and storing in the applicable list\n",
    "\n",
    "unique_list = []\n",
    "duplicate_list = []\n",
    "\n",
    "for row in list_android:\n",
    "    app_name = row[0]\n",
    "    if app_name in unique_list:\n",
    "        duplicate_list.append(app_name)\n",
    "    else:\n",
    "        unique_list.append(app_name)\n",
    "\n",
    "print(duplicate_list[:3])  \n",
    "print(len(duplicate_list))"
   ]
  },
  {
   "cell_type": "markdown",
   "metadata": {},
   "source": [
    "We've identified 1,181 duplicate entries in our dataset. We need to establish some logic for determining which app entry we should keep as we move forward. It would make sense to identify and retain the most recent entry. Looking at the column fields, we can see a field called 'Reviews,' which cites the total number of review for the app. We can use this field to associate the most recent entry with the highest number of reviews."
   ]
  },
  {
   "cell_type": "code",
   "execution_count": 7,
   "metadata": {
    "collapsed": false
   },
   "outputs": [
    {
     "name": "stdout",
     "output_type": "stream",
     "text": [
      "9659\n"
     ]
    }
   ],
   "source": [
    "# Looping through Play Store dataset to find max number of reviews for each app, then adding to dictionary for reference\n",
    "\n",
    "reviews_max = {}\n",
    "for row in list_android[1:]:\n",
    "    name = row[0]\n",
    "    n_reviews = float(row[3])\n",
    "    if name in reviews_max and reviews_max[name] < n_reviews:\n",
    "        reviews_max[name] = n_reviews\n",
    "    if name not in reviews_max:\n",
    "        reviews_max[name] = n_reviews\n",
    "        \n",
    "# Printing length of newly created dictionary to ensure code above successful\n",
    "\n",
    "print(len(reviews_max))\n"
   ]
  },
  {
   "cell_type": "markdown",
   "metadata": {},
   "source": [
    "Now that we have a dictionary that contains the maximum number of reviews for each app, we can use it to determine which rows we should keep in our \"clean\" list. Below we will loop through our dataset, compare the number of reviews in each row to our \"reviews_max\" dictionary, and add rows to our \"clean\" list that have a rating that matches our dictionary value for the applicable app name."
   ]
  },
  {
   "cell_type": "code",
   "execution_count": 8,
   "metadata": {
    "collapsed": false,
    "scrolled": false
   },
   "outputs": [
    {
     "name": "stdout",
     "output_type": "stream",
     "text": [
      "[['Photo Editor & Candy Camera & Grid & ScrapBook', 'ART_AND_DESIGN', '4.1', '159', '19M', '10,000+', 'Free', '0', 'Everyone', 'Art & Design', 'January 7, 2018', '1.0.0', '4.0.3 and up'], ['U Launcher Lite – FREE Live Cool Themes, Hide Apps', 'ART_AND_DESIGN', '4.7', '87510', '8.7M', '5,000,000+', 'Free', '0', 'Everyone', 'Art & Design', 'August 1, 2018', '1.2.4', '4.0.3 and up'], ['Sketch - Draw & Paint', 'ART_AND_DESIGN', '4.5', '215644', '25M', '50,000,000+', 'Free', '0', 'Teen', 'Art & Design', 'June 8, 2018', 'Varies with device', '4.2 and up'], ['Pixel Draw - Number Art Coloring Book', 'ART_AND_DESIGN', '4.3', '967', '2.8M', '100,000+', 'Free', '0', 'Everyone', 'Art & Design;Creativity', 'June 20, 2018', '1.1', '4.4 and up'], ['Paper flowers instructions', 'ART_AND_DESIGN', '4.4', '167', '5.6M', '50,000+', 'Free', '0', 'Everyone', 'Art & Design', 'March 26, 2017', '1.0', '2.3 and up'], ['Smoke Effect Photo Maker - Smoke Editor', 'ART_AND_DESIGN', '3.8', '178', '19M', '50,000+', 'Free', '0', 'Everyone', 'Art & Design', 'April 26, 2018', '1.1', '4.0.3 and up'], ['Infinite Painter', 'ART_AND_DESIGN', '4.1', '36815', '29M', '1,000,000+', 'Free', '0', 'Everyone', 'Art & Design', 'June 14, 2018', '6.1.61.1', '4.2 and up'], ['Garden Coloring Book', 'ART_AND_DESIGN', '4.4', '13791', '33M', '1,000,000+', 'Free', '0', 'Everyone', 'Art & Design', 'September 20, 2017', '2.9.2', '3.0 and up'], ['Kids Paint Free - Drawing Fun', 'ART_AND_DESIGN', '4.7', '121', '3.1M', '10,000+', 'Free', '0', 'Everyone', 'Art & Design;Creativity', 'July 3, 2018', '2.8', '4.0.3 and up'], ['Text on Photo - Fonteee', 'ART_AND_DESIGN', '4.4', '13880', '28M', '1,000,000+', 'Free', '0', 'Everyone', 'Art & Design', 'October 27, 2017', '1.0.4', '4.1 and up']]\n",
      "9659\n"
     ]
    }
   ],
   "source": [
    "# Creating a new list with no duplicates\n",
    "\n",
    "android_clean = []\n",
    "already_added = []\n",
    "\n",
    "for row in list_android[1:]:\n",
    "    name = row[0]\n",
    "    n_reviews = float(row[3])\n",
    "    if n_reviews == reviews_max[name] and name not in already_added:\n",
    "        android_clean.append(row)\n",
    "        already_added.append(name)\n",
    "\n",
    "# Checking the length and first rows of our new cleaned list\n",
    "\n",
    "print(android_clean[:10])\n",
    "print(len(android_clean))\n",
    "    \n",
    "    "
   ]
  },
  {
   "cell_type": "markdown",
   "metadata": {
    "collapsed": true
   },
   "source": [
    "### Removing Non-English Characters from Data Set\n",
    "\n",
    "Now that we've successfully removed duplicate entries, we need to further cleanse our data by finding and removing apps that are not built for an English audience (as they aren't relevant to the market we're studying). To accomplish this task, we can leverage ASCII numbers. Every character in a string has a corresponding ASCII number, with common English characters falling between 0 and 127. \n",
    "\n",
    "To find foreign apps, we can loop through the characters of each app name and detect anything out of range. However, since many commonly used characters like emojis also fall out of range, we need to establish a reasonable threshold so we're not needlessly discarding data. Thus, we will build a function that discards any app that has a total of three or more characters outside of range."
   ]
  },
  {
   "cell_type": "code",
   "execution_count": 9,
   "metadata": {
    "collapsed": false,
    "scrolled": true
   },
   "outputs": [
    {
     "name": "stdout",
     "output_type": "stream",
     "text": [
      "False\n",
      "True\n",
      "True\n",
      "True\n"
     ]
    }
   ],
   "source": [
    "# This function takes in a string and returns False if any character in the string doesn't belong to the set of common English characters (0 and 127). Otherwise it returns True.\n",
    "\n",
    "def ascii_check(name):\n",
    "    out_of_bounds_total = 0\n",
    "    for char in name:\n",
    "        if ord(char) > 127:\n",
    "            out_of_bounds_total += 1\n",
    "        if out_of_bounds_total > 3:\n",
    "            return False\n",
    "    return True\n",
    "\n",
    "# Checking the results to make sure our function works\n",
    "\n",
    "print(ascii_check('爱奇艺PPS -《欢乐颂2》电视剧热播'))\n",
    "print(ascii_check('Instagram'))\n",
    "print(ascii_check('Docs To Go™ Free Office Suite'))\n",
    "print(ascii_check('Instachat 😜'))"
   ]
  },
  {
   "cell_type": "markdown",
   "metadata": {},
   "source": [
    "Next we'll loop through both data sets and use our newly created \"ascii_check\" funtion to filter out any non-English apps. The remaining apps will be added to new \"clean\" lists. Finally we'll print the lengths of our new lists to see how many apps are left."
   ]
  },
  {
   "cell_type": "code",
   "execution_count": 10,
   "metadata": {
    "collapsed": false
   },
   "outputs": [
    {
     "name": "stdout",
     "output_type": "stream",
     "text": [
      "6183\n",
      "9614\n"
     ]
    }
   ],
   "source": [
    "# Using the new function to filter out non-English apps, then checking the length of the newly created lists\n",
    "\n",
    "eng_list_ios = []\n",
    "eng_android_clean = []\n",
    "\n",
    "for row in list_ios[1:]:\n",
    "    app_name = row[1]\n",
    "    if ascii_check(app_name):\n",
    "        eng_list_ios.append(row)\n",
    "\n",
    "for row in android_clean:\n",
    "    app_name = row[0]\n",
    "    if ascii_check(app_name):\n",
    "        eng_android_clean.append(row)\n",
    "\n",
    "print(len(eng_list_ios))\n",
    "print(len(eng_android_clean))\n"
   ]
  },
  {
   "cell_type": "markdown",
   "metadata": {},
   "source": [
    "### Removing Paid Apps\n",
    "\n",
    "The company for which we're analyzing the data only builds free apps. Therefore we need to remove any paid apps from our data sets.\n",
    "\n",
    "To accomplish this, we'll loop through each data set, identify which apps are free, and add those apps to a new list."
   ]
  },
  {
   "cell_type": "code",
   "execution_count": 14,
   "metadata": {
    "collapsed": false
   },
   "outputs": [
    {
     "name": "stdout",
     "output_type": "stream",
     "text": [
      "8863\n",
      "3222\n"
     ]
    }
   ],
   "source": [
    "free_list_ios = []\n",
    "free_list_android = []\n",
    "\n",
    "for row in eng_android_clean:\n",
    "    type = row[6]\n",
    "    if type == 'Free':\n",
    "        free_list_android.append(row)\n",
    "        \n",
    "for row in eng_list_ios:\n",
    "    price = float(row[4])\n",
    "    if price == 0.0:\n",
    "        free_list_ios.append(row)\n",
    "        \n",
    "print(len(free_list_android))\n",
    "print(len(free_list_ios))"
   ]
  },
  {
   "cell_type": "markdown",
   "metadata": {},
   "source": [
    "### Validation Strategy\n",
    "\n",
    "Our data is now in sufficient shape to move forward with our analysis. We mentioned at the outset that our goal is to identify the kinds of apps that are likely to attract the most users. For any new app idea, we have a validation that consists of three steps:\n",
    "\n",
    "1) Build a minimal Andoid version of the app, and add it to Google Play\n",
    "2) If the app has a good response from users, we develop it further\n",
    "3) If the app is profitable after six months, we build an iOS version of the app and add it to the App Store\n",
    "\n",
    "Therefore it's imperative that we identify what makes a successful app on both the Google Play and App Stores.\n",
    "\n",
    "To start, we need to build a frequency table for the most common genres for each market. We'll use the \"Genres\" and \"Category\" columns from the Google Play data, and \"prime_genre\" column from the App Store data. \n",
    "\n",
    "To help build our frequency table, we'll create a function that generates frequency tables."
   ]
  },
  {
   "cell_type": "code",
   "execution_count": null,
   "metadata": {
    "collapsed": true
   },
   "outputs": [],
   "source": [
    "def freq_table(dataset, index):\n",
    "    freq_table_dict = {}\n",
    "    for row in dataset:\n",
    "        index_value = row[index]\n",
    "        if index_value not in freq_table_dict:\n",
    "            freq_table_dict[index_value] = 1\n",
    "        else:\n",
    "            freq_table_dict[index_value] += 1\n",
    "            "
   ]
  }
 ],
 "metadata": {
  "kernelspec": {
   "display_name": "Python 3",
   "language": "python",
   "name": "python3"
  },
  "language_info": {
   "codemirror_mode": {
    "name": "ipython",
    "version": 3
   },
   "file_extension": ".py",
   "mimetype": "text/x-python",
   "name": "python",
   "nbconvert_exporter": "python",
   "pygments_lexer": "ipython3",
   "version": "3.4.3"
  }
 },
 "nbformat": 4,
 "nbformat_minor": 2
}
