{
 "cells": [
  {
   "cell_type": "markdown",
   "metadata": {},
   "source": [
    "# Analyzing the Characteristics of Popular Apps\n",
    "\n",
    "This project is designed to help a team of app developers identify common traits amongst the most popular apps on both Android and iOS platforms. Since our developers only create apps that are free to download, with revenue coming from in-app ads, we want to focus on apps with the highest level of engagement."
   ]
  },
  {
   "cell_type": "markdown",
   "metadata": {},
   "source": [
    "### Exploring the Data\n",
    "\n",
    "We will be analyzing two data sets for this project. The first is from August 2018 and contains data from approximately 10,000 Android apps on the Google Play Store. The second is from July 2017 and contains data from approximately 7,000 iOS apps from the App Store.\n",
    "\n",
    "To begin, we will create a function that allows us to explore these two data sets in more detail. This function will import a data set, print the rows we'd like to see, and (optionally) print the number of rows and columns in the range we've selected."
   ]
  },
  {
   "cell_type": "code",
   "execution_count": 1,
   "metadata": {
    "collapsed": false
   },
   "outputs": [],
   "source": [
    "from csv import reader\n",
    "\n",
    "# Imports data, slices rows based on start and end arguments, and prints sliced list \n",
    "\n",
    "def explore_data(dataset, start, end, rows_and_columns=False):\n",
    "    dataset_slice = dataset[start:end]    \n",
    "    for row in dataset_slice:\n",
    "        print(row)\n",
    "        print('\\n') \n",
    "\n",
    "# If rows_and_columns argument is True, prints number of rows and columns\n",
    "\n",
    "    if rows_and_columns:\n",
    "        print('Number of rows:', len(dataset))\n",
    "        print('Number of columns:', len(dataset[0]))\n"
   ]
  },
  {
   "cell_type": "markdown",
   "metadata": {},
   "source": [
    "Next we'll import the two sets we'd like to explore using the \"explore_data\" function we just created. "
   ]
  },
  {
   "cell_type": "code",
   "execution_count": 2,
   "metadata": {
    "collapsed": false
   },
   "outputs": [
    {
     "name": "stdout",
     "output_type": "stream",
     "text": [
      "['284882215', 'Facebook', '389879808', 'USD', '0.0', '2974676', '212', '3.5', '3.5', '95.0', '4+', 'Social Networking', '37', '1', '29', '1']\n",
      "\n",
      "\n",
      "['389801252', 'Instagram', '113954816', 'USD', '0.0', '2161558', '1289', '4.5', '4.0', '10.23', '12+', 'Photo & Video', '37', '0', '29', '1']\n",
      "\n",
      "\n",
      "['529479190', 'Clash of Clans', '116476928', 'USD', '0.0', '2130805', '579', '4.5', '4.5', '9.24.12', '9+', 'Games', '38', '5', '18', '1']\n",
      "\n",
      "\n",
      "Number of rows: 7197\n",
      "Number of columns: 16\n",
      "\n",
      "\n",
      "['Photo Editor & Candy Camera & Grid & ScrapBook', 'ART_AND_DESIGN', '4.1', '159', '19M', '10,000+', 'Free', '0', 'Everyone', 'Art & Design', 'January 7, 2018', '1.0.0', '4.0.3 and up']\n",
      "\n",
      "\n",
      "['Coloring book moana', 'ART_AND_DESIGN', '3.9', '967', '14M', '500,000+', 'Free', '0', 'Everyone', 'Art & Design;Pretend Play', 'January 15, 2018', '2.0.0', '4.0.3 and up']\n",
      "\n",
      "\n",
      "['U Launcher Lite – FREE Live Cool Themes, Hide Apps', 'ART_AND_DESIGN', '4.7', '87510', '8.7M', '5,000,000+', 'Free', '0', 'Everyone', 'Art & Design', 'August 1, 2018', '1.2.4', '4.0.3 and up']\n",
      "\n",
      "\n",
      "Number of rows: 10841\n",
      "Number of columns: 13\n"
     ]
    }
   ],
   "source": [
    "# Opening and reading App Store data, then converting to list of lists\n",
    "\n",
    "opened_ios = open('AppleStore.csv')\n",
    "read_ios = reader(opened_ios)\n",
    "list_ios = list(read_ios)\n",
    "\n",
    "# Opening and reading Google Play data, then converting to list of lists\n",
    "\n",
    "opened_android = open('googleplaystore.csv')\n",
    "read_android = reader(opened_android)\n",
    "list_android = list(read_android)\n",
    "\n",
    "# Passing in first three rows of imported data sets into exploratory function\n",
    "\n",
    "explore_data(list_ios[1:], 0, 3, True)\n",
    "print('\\n')\n",
    "explore_data(list_android[1:], 0, 3, True)"
   ]
  },
  {
   "cell_type": "markdown",
   "metadata": {},
   "source": [
    "It appears that our \"explore_data\" function works as intended. Let's also print the header row of each set to see which columns may be useful in the next stages of our analysis."
   ]
  },
  {
   "cell_type": "code",
   "execution_count": 3,
   "metadata": {
    "collapsed": false,
    "scrolled": true
   },
   "outputs": [
    {
     "name": "stdout",
     "output_type": "stream",
     "text": [
      "['App', 'Category', 'Rating', 'Reviews', 'Size', 'Installs', 'Type', 'Price', 'Content Rating', 'Genres', 'Last Updated', 'Current Ver', 'Android Ver']\n",
      "\n",
      "\n",
      "['id', 'track_name', 'size_bytes', 'currency', 'price', 'rating_count_tot', 'rating_count_ver', 'user_rating', 'user_rating_ver', 'ver', 'cont_rating', 'prime_genre', 'sup_devices.num', 'ipadSc_urls.num', 'lang.num', 'vpp_lic']\n"
     ]
    }
   ],
   "source": [
    "print(list_android[0])\n",
    "print('\\n')\n",
    "print(list_ios[0])"
   ]
  },
  {
   "cell_type": "markdown",
   "metadata": {},
   "source": [
    "### Identifying relevant fields\n",
    "\n",
    "It appears that the following fields are relevant to the goals of our analysis: Category, Reviews, Installs, Type, Price, price, rating_count_tot, cont_rating, prime_genre, sup_devices.num, ipadSc_urls.num and vpp_lic.\n",
    "\n",
    "Here is the supporting documentation for the two data sets, which provides context for each of the fields:\n",
    "\n",
    "[AppleStore.csv](https://www.kaggle.com/ramamet4/app-store-apple-data-set-10k-apps/home) \n",
    "\n",
    "[googleplaystore.csv](https://www.kaggle.com/lava18/google-play-store-apps/home)"
   ]
  },
  {
   "cell_type": "markdown",
   "metadata": {},
   "source": [
    "### Cleaning the Data\n",
    "\n",
    "Before we jump into analyzing our sets, we should ensure that there are no data integrity issues that could skew our results.\n",
    "\n",
    "When we read through the documentation of the Google Play set, we can see that other users have flagged an issue with row 10473. It appears that the \"Category\" column is missing, which is causing subsequent columns to erroneously shift. Let's delete this row."
   ]
  },
  {
   "cell_type": "code",
   "execution_count": 4,
   "metadata": {
    "collapsed": false,
    "scrolled": true
   },
   "outputs": [
    {
     "name": "stdout",
     "output_type": "stream",
     "text": [
      "['Life Made WI-Fi Touchscreen Photo Frame', '1.9', '19', '3.0M', '1,000+', 'Free', '0', 'Everyone', '', 'February 11, 2018', '1.0.19', '4.0 and up']\n"
     ]
    }
   ],
   "source": [
    "# Printing and deleting problematic row\n",
    "\n",
    "print(list_android[10473])\n",
    "del list_android[10473]"
   ]
  },
  {
   "cell_type": "markdown",
   "metadata": {},
   "source": [
    "### Removing Duplicate Entries\n",
    "\n",
    "A cursory look at the Google Play set reveals another issue: some apps contain more than one entry. We'll need to identify and remove these duplicate entries, which we can accomplish using the following steps:\n",
    "\n",
    "1. Create two new empty lists - one to store unique values (app names we're encountering for the first time) and another to store duplicate values (app names that already exists in our list of unique values).\n",
    "\n",
    "2. Loop through each row of the data set and check to see if the app name in that row has already been added to our list of unique values. If it hasn't, it means it's the first time we're encountering that app, so we need to add it.\n",
    "\n",
    "3. If the app name does exist in our list of unique values, it means the app contains a duplicate, so we need to add it to our list of duplicate values."
   ]
  },
  {
   "cell_type": "code",
   "execution_count": 5,
   "metadata": {
    "collapsed": false,
    "scrolled": false
   },
   "outputs": [
    {
     "name": "stdout",
     "output_type": "stream",
     "text": [
      "['Quick PDF Scanner + OCR FREE', 'Box', 'Google My Business']\n",
      "1181\n"
     ]
    }
   ],
   "source": [
    "# Looping through Play Store dataset, identifying if a row is unique or a duplicate, and storing in the applicable list\n",
    "\n",
    "unique_list = []\n",
    "duplicate_list = []\n",
    "\n",
    "for row in list_android:\n",
    "    app_name = row[0]\n",
    "    if app_name in unique_list:\n",
    "        duplicate_list.append(app_name)\n",
    "    else:\n",
    "        unique_list.append(app_name)\n",
    "\n",
    "# Testing out the code by printing the first three lines of our duplciate list and its length\n",
    "\n",
    "print(duplicate_list[:3])  \n",
    "print(len(duplicate_list))"
   ]
  },
  {
   "cell_type": "markdown",
   "metadata": {},
   "source": [
    "We can see that there are 1,181 duplicate entries in our dataset. We need to establish some logic for determining which of the duplicate entries should be kept. A sensible approach would be to identify and retain the most recent entry. Looking at the column fields, we can see a field called \"Reviews,\" which provides the total number of user reviews submitted. We can use this field to associate the highest number of reviews with the most recent entry.\n",
    "\n",
    "Let's create a dictionary to store app names (our keys) and the highest number of reviews associated with that app (our values). To find the highest number of reviews, we'll loop through each row in our set. For each loop, if we detect a review count that's higher than the current value in our dictionary, we'll assign the new value."
   ]
  },
  {
   "cell_type": "code",
   "execution_count": 6,
   "metadata": {
    "collapsed": false,
    "scrolled": true
   },
   "outputs": [
    {
     "name": "stdout",
     "output_type": "stream",
     "text": [
      "9659\n"
     ]
    }
   ],
   "source": [
    "# Looping through Play Store dataset to find max number of reviews for each app, then adding to dictionary for reference\n",
    "\n",
    "reviews_max = {}\n",
    "for row in list_android[1:]: # Slicing to exclude header row\n",
    "    name = row[0]\n",
    "    n_reviews = float(row[3])\n",
    "    if name in reviews_max and reviews_max[name] < n_reviews:\n",
    "        reviews_max[name] = n_reviews\n",
    "    if name not in reviews_max:\n",
    "        reviews_max[name] = n_reviews\n",
    "        \n",
    "# Printing length of newly created dictionary to ensure code above successful\n",
    "\n",
    "print(len(reviews_max))\n"
   ]
  },
  {
   "cell_type": "markdown",
   "metadata": {},
   "source": [
    "We can use our newly created dictionary as a tool in creating a new, duplicate-free list. To achieve that we will loop through our data set and compare the number of reviews in each row to our \"reviews_max\" dictionary. When we find a row with a rating value that that matches the value in our dictionary, we'll append that row to a new \"clean\" list."
   ]
  },
  {
   "cell_type": "code",
   "execution_count": 7,
   "metadata": {
    "collapsed": false,
    "scrolled": false
   },
   "outputs": [
    {
     "name": "stdout",
     "output_type": "stream",
     "text": [
      "[['Photo Editor & Candy Camera & Grid & ScrapBook', 'ART_AND_DESIGN', '4.1', '159', '19M', '10,000+', 'Free', '0', 'Everyone', 'Art & Design', 'January 7, 2018', '1.0.0', '4.0.3 and up'], ['U Launcher Lite – FREE Live Cool Themes, Hide Apps', 'ART_AND_DESIGN', '4.7', '87510', '8.7M', '5,000,000+', 'Free', '0', 'Everyone', 'Art & Design', 'August 1, 2018', '1.2.4', '4.0.3 and up'], ['Sketch - Draw & Paint', 'ART_AND_DESIGN', '4.5', '215644', '25M', '50,000,000+', 'Free', '0', 'Teen', 'Art & Design', 'June 8, 2018', 'Varies with device', '4.2 and up'], ['Pixel Draw - Number Art Coloring Book', 'ART_AND_DESIGN', '4.3', '967', '2.8M', '100,000+', 'Free', '0', 'Everyone', 'Art & Design;Creativity', 'June 20, 2018', '1.1', '4.4 and up'], ['Paper flowers instructions', 'ART_AND_DESIGN', '4.4', '167', '5.6M', '50,000+', 'Free', '0', 'Everyone', 'Art & Design', 'March 26, 2017', '1.0', '2.3 and up'], ['Smoke Effect Photo Maker - Smoke Editor', 'ART_AND_DESIGN', '3.8', '178', '19M', '50,000+', 'Free', '0', 'Everyone', 'Art & Design', 'April 26, 2018', '1.1', '4.0.3 and up'], ['Infinite Painter', 'ART_AND_DESIGN', '4.1', '36815', '29M', '1,000,000+', 'Free', '0', 'Everyone', 'Art & Design', 'June 14, 2018', '6.1.61.1', '4.2 and up'], ['Garden Coloring Book', 'ART_AND_DESIGN', '4.4', '13791', '33M', '1,000,000+', 'Free', '0', 'Everyone', 'Art & Design', 'September 20, 2017', '2.9.2', '3.0 and up'], ['Kids Paint Free - Drawing Fun', 'ART_AND_DESIGN', '4.7', '121', '3.1M', '10,000+', 'Free', '0', 'Everyone', 'Art & Design;Creativity', 'July 3, 2018', '2.8', '4.0.3 and up'], ['Text on Photo - Fonteee', 'ART_AND_DESIGN', '4.4', '13880', '28M', '1,000,000+', 'Free', '0', 'Everyone', 'Art & Design', 'October 27, 2017', '1.0.4', '4.1 and up']]\n",
      "9659\n"
     ]
    }
   ],
   "source": [
    "# Creating a new list with no duplicates\n",
    "\n",
    "android_clean = []\n",
    "already_added = []\n",
    "\n",
    "for row in list_android[1:]:\n",
    "    name = row[0]\n",
    "    n_reviews = float(row[3])\n",
    "    if n_reviews == reviews_max[name] and name not in already_added:\n",
    "        android_clean.append(row)\n",
    "        already_added.append(name)\n",
    "\n",
    "# Checking the length and first rows of our new cleaned list\n",
    "\n",
    "print(android_clean[:10])\n",
    "print(len(android_clean))\n",
    "    \n",
    "    "
   ]
  },
  {
   "cell_type": "markdown",
   "metadata": {
    "collapsed": true
   },
   "source": [
    "### Removing Non-English Characters\n",
    "\n",
    "We've successfully removed duplicate entries, but we need to further cleanse our data by finding and removing apps that are not developed for an English audience (as they aren't relevant to the market our developers are targeting). To accomplish this task, we can leverage ASCII numbers. Every character in a string has a corresponding ASCII number, with common English characters falling anywhere between 0 and 127. \n",
    "\n",
    "To find non-English apps, we can loop through the characters of each app name and detect anything out of range. However, since many commonly used characters like emojis also fall out of range, we need to establish a reasonable threshold so we're not needlessly discarding useful data. Thus, we will build a function that removes any app that has a total of three or more characters outside of range."
   ]
  },
  {
   "cell_type": "code",
   "execution_count": 8,
   "metadata": {
    "collapsed": false,
    "scrolled": true
   },
   "outputs": [
    {
     "name": "stdout",
     "output_type": "stream",
     "text": [
      "False\n",
      "True\n",
      "True\n",
      "True\n"
     ]
    }
   ],
   "source": [
    "# This function takes in a string and returns False if any character in the string doesn't belong to the set of common English characters (0 and 127). Otherwise it returns True.\n",
    "\n",
    "def ascii_check(name):\n",
    "    out_of_bounds_total = 0\n",
    "    for char in name:\n",
    "        if ord(char) > 127:\n",
    "            out_of_bounds_total += 1\n",
    "        if out_of_bounds_total > 3:\n",
    "            return False\n",
    "    return True\n",
    "\n",
    "# Checking the results to make sure our function works\n",
    "\n",
    "print(ascii_check('爱奇艺PPS -《欢乐颂2》电视剧热播'))\n",
    "print(ascii_check('Instagram'))\n",
    "print(ascii_check('Docs To Go™ Free Office Suite'))\n",
    "print(ascii_check('Instachat 😜'))"
   ]
  },
  {
   "cell_type": "markdown",
   "metadata": {},
   "source": [
    "Next we'll loop through both data sets and use our newly created \"ascii_check\" funtion to filter out any non-English apps. The remaining apps will be added to a new list. Finally, we'll print the lengths of our new lists to see how many apps are left."
   ]
  },
  {
   "cell_type": "code",
   "execution_count": 9,
   "metadata": {
    "collapsed": false
   },
   "outputs": [
    {
     "name": "stdout",
     "output_type": "stream",
     "text": [
      "6183\n",
      "9614\n"
     ]
    }
   ],
   "source": [
    "# Using the new function to filter out non-English apps, then checking the length of the newly created lists\n",
    "\n",
    "eng_list_ios = []\n",
    "eng_android_clean = []\n",
    "\n",
    "for row in list_ios[1:]:\n",
    "    app_name = row[1]\n",
    "    if ascii_check(app_name):\n",
    "        eng_list_ios.append(row)\n",
    "\n",
    "for row in android_clean:\n",
    "    app_name = row[0]\n",
    "    if ascii_check(app_name):\n",
    "        eng_android_clean.append(row)\n",
    "\n",
    "print(len(eng_list_ios))\n",
    "print(len(eng_android_clean))\n"
   ]
  },
  {
   "cell_type": "markdown",
   "metadata": {},
   "source": [
    "### Removing Paid Apps\n",
    "\n",
    "Since our developers only build free-to-use apps, we should also remove from our sets any paid apps. Luckily our Android data includes a column, \"Type\", that provides this information. There is no equivalent in the iOS data, but it does contain a column with pricing information, which does the job (a price of 0.0 == free). We'll loop through each data set, identify which apps are free, and add those apps to a new list."
   ]
  },
  {
   "cell_type": "code",
   "execution_count": 10,
   "metadata": {
    "collapsed": false
   },
   "outputs": [
    {
     "name": "stdout",
     "output_type": "stream",
     "text": [
      "8863\n",
      "3222\n"
     ]
    }
   ],
   "source": [
    "free_list_ios = []\n",
    "free_list_android = []\n",
    "\n",
    "for row in eng_android_clean:\n",
    "    type = row[6]\n",
    "    if type == 'Free':\n",
    "        free_list_android.append(row)\n",
    "        \n",
    "for row in eng_list_ios:\n",
    "    price = float(row[4])\n",
    "    if price == 0.0:\n",
    "        free_list_ios.append(row)\n",
    "        \n",
    "# Checking lengths of new lists\n",
    "\n",
    "print(len(free_list_android))\n",
    "print(len(free_list_ios))"
   ]
  },
  {
   "cell_type": "markdown",
   "metadata": {},
   "source": [
    "### Validation Strategy\n",
    "\n",
    "Our data is now in sufficient shape to move forward with our analysis. We mentioned at the outset that our goal is to identify the kinds of apps that are likely to attract the most users. For any new app idea, our developers have a validation strategy that consists of three steps:\n",
    "\n",
    "1. Build a minimal Android version of the app and add it to the Google Play store\n",
    "\n",
    "2. If the app has a good response from users, develop it further\n",
    "\n",
    "3. If the app is profitable after six months, build an iOS version of the app and add it to the App Store\n",
    "\n",
    "Therefore it's imperative that we identify what makes a successful app on both the Google Play and App Stores.\n",
    "\n",
    "To start, we need to build a frequency table for the most common genres for each market. We'll use the \"Genres\" and \"Category\" columns from the Google Play data, and \"prime_genre\" column from the App Store data. \n",
    "\n",
    "To help build our frequency table, we'll create a function that generates frequency tables. It will accept a data set and column index as its two inputs, and return a frequency table in dictionary format, with frequencies represented as percentages."
   ]
  },
  {
   "cell_type": "code",
   "execution_count": 11,
   "metadata": {
    "collapsed": false
   },
   "outputs": [],
   "source": [
    "# Function takes in data set (list of lists) and index number, and returns dictionary representing frequency of items found in index column as percentage (our frequency table)\n",
    "\n",
    "def freq_table(dataset, index):\n",
    "    freq_table_dict = {}\n",
    "    for row in dataset:\n",
    "        index_value = row[index]\n",
    "        if index_value not in freq_table_dict:\n",
    "            freq_table_dict[index_value] = 1\n",
    "        else:\n",
    "            freq_table_dict[index_value] += 1\n",
    "    for element in freq_table_dict:\n",
    "        freq_table_dict[element] = freq_table_dict[element] / len(dataset) * 100 \n",
    "    return freq_table_dict"
   ]
  },
  {
   "cell_type": "markdown",
   "metadata": {},
   "source": [
    "One issue with our frequency table is that it exists in a dictionary, and dictionaries sort values based on keys, not values. That means if we tried to sort our frequency table, Python would sort it based on the names of the apps, not their frequencies. We can get around that problem by converting our dictionary into a list of tuples with the key-value order reversed. "
   ]
  },
  {
   "cell_type": "code",
   "execution_count": 12,
   "metadata": {
    "collapsed": true
   },
   "outputs": [],
   "source": [
    "# Function transforms dictionary (frequency table) into list of reverse-order tuples, then sorting in descending order\n",
    "\n",
    "def display_table(dataset, index):\n",
    "    table = freq_table(dataset, index)\n",
    "    table_display = []\n",
    "    for key in table:\n",
    "        key_val_as_tuple = (table[key], key)\n",
    "        table_display.append(key_val_as_tuple)\n",
    "\n",
    "    table_sorted = sorted(table_display, reverse = True)\n",
    "    for entry in table_sorted:\n",
    "        print(entry[1], ':', entry[0])"
   ]
  },
  {
   "cell_type": "markdown",
   "metadata": {},
   "source": [
    "Now let's run our data sets through our revised frequency table generator, selecting the columns we identified earlier as relevant to our analysis. We'll then print the resulting tables and analyze the results."
   ]
  },
  {
   "cell_type": "code",
   "execution_count": 13,
   "metadata": {
    "collapsed": false
   },
   "outputs": [
    {
     "name": "stdout",
     "output_type": "stream",
     "text": [
      "FAMILY : 18.898792733837304\n",
      "GAME : 9.725826469592688\n",
      "TOOLS : 8.462146000225657\n",
      "BUSINESS : 4.592124562789123\n",
      "LIFESTYLE : 3.9038700214374367\n",
      "PRODUCTIVITY : 3.8925871601038025\n",
      "FINANCE : 3.7007785174320205\n",
      "MEDICAL : 3.5315355974275078\n",
      "SPORTS : 3.396141261423897\n",
      "PERSONALIZATION : 3.317161232088458\n",
      "COMMUNICATION : 3.2381812027530184\n",
      "HEALTH_AND_FITNESS : 3.0802211440821394\n",
      "PHOTOGRAPHY : 2.944826808078529\n",
      "NEWS_AND_MAGAZINES : 2.798149610741284\n",
      "SOCIAL : 2.6627552747376737\n",
      "TRAVEL_AND_LOCAL : 2.335552296062281\n",
      "SHOPPING : 2.245289405393208\n",
      "BOOKS_AND_REFERENCE : 2.1437436533904997\n",
      "DATING : 1.8616721200496444\n",
      "VIDEO_PLAYERS : 1.7939749520478394\n",
      "MAPS_AND_NAVIGATION : 1.399074805370642\n",
      "FOOD_AND_DRINK : 1.241114746699763\n",
      "EDUCATION : 1.1621347173643235\n",
      "ENTERTAINMENT : 0.9590432133589079\n",
      "LIBRARIES_AND_DEMO : 0.9364774906916393\n",
      "AUTO_AND_VEHICLES : 0.9251946293580051\n",
      "HOUSE_AND_HOME : 0.8236488773552973\n",
      "WEATHER : 0.8010831546880289\n",
      "EVENTS : 0.7108202640189552\n",
      "PARENTING : 0.6544059573507841\n",
      "ART_AND_DESIGN : 0.6431230960171499\n",
      "COMICS : 0.6205573733498815\n",
      "BEAUTY : 0.5979916506826132\n",
      "None\n",
      "\n",
      "\n",
      "Tools : 8.450863138892023\n",
      "Entertainment : 6.070179397495204\n",
      "Education : 5.348076272142616\n",
      "Business : 4.592124562789123\n",
      "Productivity : 3.8925871601038025\n",
      "Lifestyle : 3.8925871601038025\n",
      "Finance : 3.7007785174320205\n",
      "Medical : 3.5315355974275078\n",
      "Sports : 3.463838429425702\n",
      "Personalization : 3.317161232088458\n",
      "Communication : 3.2381812027530184\n",
      "Action : 3.102786866749408\n",
      "Health & Fitness : 3.0802211440821394\n",
      "Photography : 2.944826808078529\n",
      "News & Magazines : 2.798149610741284\n",
      "Social : 2.6627552747376737\n",
      "Travel & Local : 2.324269434728647\n",
      "Shopping : 2.245289405393208\n",
      "Books & Reference : 2.1437436533904997\n",
      "Simulation : 2.042197901387792\n",
      "Dating : 1.8616721200496444\n",
      "Arcade : 1.8503892587160102\n",
      "Video Players & Editors : 1.771409229380571\n",
      "Casual : 1.7601263680469368\n",
      "Maps & Navigation : 1.399074805370642\n",
      "Food & Drink : 1.241114746699763\n",
      "Puzzle : 1.128286133363421\n",
      "Racing : 0.9928917973598104\n",
      "Role Playing : 0.9364774906916393\n",
      "Libraries & Demo : 0.9364774906916393\n",
      "Auto & Vehicles : 0.9251946293580051\n",
      "Strategy : 0.9026289066907368\n",
      "House & Home : 0.8236488773552973\n",
      "Weather : 0.8010831546880289\n",
      "Events : 0.7108202640189552\n",
      "Adventure : 0.6769716800180525\n",
      "Comics : 0.6092745120162473\n",
      "Beauty : 0.5979916506826132\n",
      "Art & Design : 0.5979916506826132\n",
      "Parenting : 0.4964458986799052\n",
      "Card : 0.4513144533453684\n",
      "Casino : 0.42874873067809993\n",
      "Trivia : 0.4174658693444658\n",
      "Educational;Education : 0.3949001466771973\n",
      "Board : 0.38361728534356315\n",
      "Educational : 0.37233442400992894\n",
      "Education;Education : 0.33848584000902626\n",
      "Word : 0.25950581067358686\n",
      "Casual;Pretend Play : 0.2369400880063184\n",
      "Music : 0.20309150400541578\n",
      "Racing;Action & Adventure : 0.16924292000451313\n",
      "Puzzle;Brain Games : 0.16924292000451313\n",
      "Entertainment;Music & Video : 0.16924292000451313\n",
      "Casual;Brain Games : 0.1353943360036105\n",
      "Casual;Action & Adventure : 0.1353943360036105\n",
      "Arcade;Action & Adventure : 0.1241114746699763\n",
      "Action;Action & Adventure : 0.10154575200270789\n",
      "Educational;Pretend Play : 0.09026289066907367\n",
      "Simulation;Action & Adventure : 0.07898002933543948\n",
      "Parenting;Education : 0.07898002933543948\n",
      "Entertainment;Brain Games : 0.07898002933543948\n",
      "Board;Brain Games : 0.07898002933543948\n",
      "Parenting;Music & Video : 0.06769716800180525\n",
      "Educational;Brain Games : 0.06769716800180525\n",
      "Casual;Creativity : 0.06769716800180525\n",
      "Art & Design;Creativity : 0.06769716800180525\n",
      "Education;Pretend Play : 0.05641430666817105\n",
      "Role Playing;Pretend Play : 0.045131445334536835\n",
      "Education;Creativity : 0.045131445334536835\n",
      "Role Playing;Action & Adventure : 0.033848584000902626\n",
      "Puzzle;Action & Adventure : 0.033848584000902626\n",
      "Entertainment;Creativity : 0.033848584000902626\n",
      "Entertainment;Action & Adventure : 0.033848584000902626\n",
      "Educational;Creativity : 0.033848584000902626\n",
      "Educational;Action & Adventure : 0.033848584000902626\n",
      "Education;Music & Video : 0.033848584000902626\n",
      "Education;Brain Games : 0.033848584000902626\n",
      "Education;Action & Adventure : 0.033848584000902626\n",
      "Adventure;Action & Adventure : 0.033848584000902626\n",
      "Video Players & Editors;Music & Video : 0.022565722667268417\n",
      "Sports;Action & Adventure : 0.022565722667268417\n",
      "Simulation;Pretend Play : 0.022565722667268417\n",
      "Puzzle;Creativity : 0.022565722667268417\n",
      "Music;Music & Video : 0.022565722667268417\n",
      "Entertainment;Pretend Play : 0.022565722667268417\n",
      "Casual;Education : 0.022565722667268417\n",
      "Board;Action & Adventure : 0.022565722667268417\n",
      "Video Players & Editors;Creativity : 0.011282861333634209\n",
      "Trivia;Education : 0.011282861333634209\n",
      "Travel & Local;Action & Adventure : 0.011282861333634209\n",
      "Tools;Education : 0.011282861333634209\n",
      "Strategy;Education : 0.011282861333634209\n",
      "Strategy;Creativity : 0.011282861333634209\n",
      "Strategy;Action & Adventure : 0.011282861333634209\n",
      "Simulation;Education : 0.011282861333634209\n",
      "Role Playing;Brain Games : 0.011282861333634209\n",
      "Racing;Pretend Play : 0.011282861333634209\n",
      "Puzzle;Education : 0.011282861333634209\n",
      "Parenting;Brain Games : 0.011282861333634209\n",
      "Music & Audio;Music & Video : 0.011282861333634209\n",
      "Lifestyle;Pretend Play : 0.011282861333634209\n",
      "Lifestyle;Education : 0.011282861333634209\n",
      "Health & Fitness;Education : 0.011282861333634209\n",
      "Health & Fitness;Action & Adventure : 0.011282861333634209\n",
      "Entertainment;Education : 0.011282861333634209\n",
      "Communication;Creativity : 0.011282861333634209\n",
      "Comics;Creativity : 0.011282861333634209\n",
      "Casual;Music & Video : 0.011282861333634209\n",
      "Card;Action & Adventure : 0.011282861333634209\n",
      "Books & Reference;Education : 0.011282861333634209\n",
      "Art & Design;Pretend Play : 0.011282861333634209\n",
      "Art & Design;Action & Adventure : 0.011282861333634209\n",
      "Arcade;Pretend Play : 0.011282861333634209\n",
      "Adventure;Education : 0.011282861333634209\n",
      "None\n",
      "\n",
      "\n",
      "Games : 58.16263190564867\n",
      "Entertainment : 7.883302296710118\n",
      "Photo & Video : 4.9658597144630665\n",
      "Education : 3.662321539416512\n",
      "Social Networking : 3.2898820608317814\n",
      "Shopping : 2.60707635009311\n",
      "Utilities : 2.5139664804469275\n",
      "Sports : 2.1415270018621975\n",
      "Music : 2.0484171322160147\n",
      "Health & Fitness : 2.0173805090006205\n",
      "Productivity : 1.7380509000620732\n",
      "Lifestyle : 1.5828677839851024\n",
      "News : 1.3345747982619491\n",
      "Travel : 1.2414649286157666\n",
      "Finance : 1.1173184357541899\n",
      "Weather : 0.8690254500310366\n",
      "Food & Drink : 0.8069522036002483\n",
      "Reference : 0.5586592178770949\n",
      "Business : 0.5276225946617008\n",
      "Book : 0.4345127250155183\n",
      "Navigation : 0.186219739292365\n",
      "Medical : 0.186219739292365\n",
      "Catalogs : 0.12414649286157665\n",
      "None\n"
     ]
    }
   ],
   "source": [
    "# Printing frequency tables for relevant columns to analyze data\n",
    "\n",
    "print(display_table(free_list_android, 1))\n",
    "print('\\n')\n",
    "print(display_table(free_list_android, 9))\n",
    "print('\\n')\n",
    "print(display_table(free_list_ios, 11))\n"
   ]
  },
  {
   "cell_type": "markdown",
   "metadata": {},
   "source": [
    "### Frequency Table Analysis\n",
    "\n",
    "Here are some observations about the frequency tables we just printed:\n",
    "\n",
    "#### App Store (iOS)\n",
    "\n",
    "The most common genre, by a significant margin, is \"Games\", representing close to 60% of apps in our data set. The runner-up is \"Entertainment,\" representing ~8% share of our set. In fact, most of the apps in the top 10 are related to some form of entertainment, including \"Photo & Video\" (~5%), \"Social Networking\" (~3.3%), \"Shopping\" (~2.6%), \"Sports\" (~2.1%) and \"Music\" (~2%). \n",
    "\n",
    "On the opposite end of the spectrum, apps with the lowest frequency are more utilitarian and practical in nature (e.g. \"Business\" (~0.5%), \"Navigation\" (~0.2%), \"Medical\" (~0.2%) and \"Catalogs\" (~0.1%).\n",
    "\n",
    "Based on the above, it would seem that the ideal profile is a game-based app, or more generally, an app that delivers some form of entertainment.\n",
    "\n",
    "#### Google Play Store (Android)\n",
    "\n",
    "We see a very different landscape on the Android store. Our top five genres are an equal mix of fun and utilitarian: \"Tools\" (~8.5%), \"Entertainment\" (~6.1%), \"Education\" (~5.3%), \"Business\" (~4.6%) and \"Productivity\" (~3.9%). We see a similar pattern in the \"Category\" column, with \"Game\" and \"Tools\" being the second and third most popular, respectively. This mixed pattern appears to continue throughout our frequency tables, demonstrating that there is no dominant app genre on Google Play store.\n",
    "\n",
    "#### Putting the Pieces Together\n",
    "\n",
    "It's clear that entertainment-based apps dominate the iOS store, with the overwhelming majority (close to 60%) being games. \n",
    "\n",
    "On the Android store, there is no dominant profile; apps for entertainment and utilitarian purposes are equally represented throughout our frequency tables.\n",
    "\n",
    "With no consistent pattern across both iOS and Android, it's difficult to recommend a specific app profile at this point. Furthermore, our frequency tables have an important limitation: they don't tell us how many users these apps are attracting. For example, just because most apps on iOS are game-based doesn't necessarily mean those apps are drawing in the most users. Perhaps they're so ubiquitous simply because they're easier to develop. So which apps are attracting the most users? We'll need to expand our investigation to answer that question."
   ]
  },
  {
   "cell_type": "markdown",
   "metadata": {
    "collapsed": true
   },
   "source": [
    "### Finding Apps with High Usage\n",
    "\n",
    "To understand what kinds of apps attract the most users, we can look at average installs. The Google Play data set makes this easy as it contains a column with information on installs. However, this information is missing in the App Store data set. The best substitute is to use the \"rating_count_tot\" column, which indicates the number of user ratings.\n",
    "\n",
    "Let's tackle the more challenging App Store data first. We'll calculate the average number of user ratings per app genre."
   ]
  },
  {
   "cell_type": "code",
   "execution_count": 14,
   "metadata": {
    "collapsed": false
   },
   "outputs": [
    {
     "name": "stdout",
     "output_type": "stream",
     "text": [
      "Navigation : 86090.33333333333\n",
      "Reference : 74942.11111111111\n",
      "Social Networking : 71548.34905660378\n",
      "Music : 57326.530303030304\n",
      "Weather : 52279.892857142855\n",
      "Book : 39758.5\n",
      "Food & Drink : 33333.92307692308\n",
      "Finance : 31467.944444444445\n",
      "Photo & Video : 28441.54375\n",
      "Travel : 28243.8\n",
      "Shopping : 26919.690476190477\n",
      "Health & Fitness : 23298.015384615384\n",
      "Sports : 23008.898550724636\n",
      "Games : 22788.6696905016\n",
      "News : 21248.023255813954\n",
      "Productivity : 21028.410714285714\n",
      "Utilities : 18684.456790123455\n",
      "Lifestyle : 16485.764705882353\n",
      "Entertainment : 14029.830708661417\n",
      "Business : 7491.117647058823\n",
      "Education : 7003.983050847458\n",
      "Catalogs : 4004.0\n",
      "Medical : 612.0\n"
     ]
    }
   ],
   "source": [
    "# Generating frequency table for unique app genres\n",
    "\n",
    "prime_genre_freq = freq_table(free_list_ios, 11)\n",
    "\n",
    "# Calculating average user rating of each app genre with nested loop\n",
    "\n",
    "avg_usr_rating_dict = {}\n",
    "for genre in prime_genre_freq:\n",
    "    total = 0\n",
    "    len_genre = 0\n",
    "    for app in free_list_ios:\n",
    "        genre_app = app[11]\n",
    "        if genre_app == genre:\n",
    "            total += float(app[5])\n",
    "            len_genre += 1\n",
    "    avg_usr_rating = total / len_genre\n",
    "    avg_usr_rating_dict[genre] = avg_usr_rating\n",
    "    \n",
    "table_display = []\n",
    "for key in avg_usr_rating_dict:\n",
    "    key_val_as_tuple = (avg_usr_rating_dict[key], key)\n",
    "    table_display.append(key_val_as_tuple)\n",
    "\n",
    "table_sorted = sorted(table_display, reverse = True)\n",
    "for entry in table_sorted:\n",
    "    print(entry[1], ':', entry[0])\n"
   ]
  },
  {
   "cell_type": "markdown",
   "metadata": {},
   "source": [
    "Earlier in our analysis we saw that game-based apps outnumbered all other app genres by significant margin on the iOS store. However, the average user ratimgs we printed above tells a very different story. \"Games\" is on the lower end of the spectrum, with roughly 25% of the average user ratings held by the leading genre, \"Navigation\". Since we're targeting apps with high user engagement and usage, we should focus our attention to the \"Navigation\" category. Also worth considering are \"Reference\" and \"Social Networking\", which are on the higher end of the scale as well. It's not entirely clear what kinds of apps are categorized as \"Reference,\" so let's print a list with just those apps to get a better sense."
   ]
  },
  {
   "cell_type": "code",
   "execution_count": 15,
   "metadata": {
    "collapsed": false
   },
   "outputs": [
    {
     "name": "stdout",
     "output_type": "stream",
     "text": [
      "['Bible', 'Dictionary.com Dictionary & Thesaurus', 'Dictionary.com Dictionary & Thesaurus for iPad', 'Google Translate', 'Muslim Pro: Ramadan 2017 Prayer Times, Azan, Quran', 'New Furniture Mods - Pocket Wiki & Game Tools for Minecraft PC Edition', 'Merriam-Webster Dictionary', 'Night Sky', 'City Maps for Minecraft PE - The Best Maps for Minecraft Pocket Edition (MCPE)', 'LUCKY BLOCK MOD ™ for Minecraft PC Edition - The Best Pocket Wiki & Mods Installer Tools', 'GUNS MODS for Minecraft PC Edition - Mods Tools', 'Guides for Pokémon GO - Pokemon GO News and Cheats', 'WWDC', 'Horror Maps for Minecraft PE - Download The Scariest Maps for Minecraft Pocket Edition (MCPE) Free', 'VPN Express', 'Real Bike Traffic Rider Virtual Reality Glasses', '教えて!goo', 'Jishokun-Japanese English Dictionary & Translator']\n"
     ]
    }
   ],
   "source": [
    "reference_list = []\n",
    "\n",
    "for row in free_list_ios:\n",
    "    if row[11] == 'Reference':\n",
    "        reference_list.append(row[1])\n",
    "print(reference_list)"
   ]
  },
  {
   "cell_type": "markdown",
   "metadata": {},
   "source": [
    "Next, we'll identify Android apps with the highest levels of usage through the \"Installs\" column. Note that this column provides install ranges as opposed to exact numbers (e.g. 100+, 1,000+, 5,000+). This should be sufficient for us as we simply want to understand which apps attract the most users. When computing our averages, we'll ignore the \"+\" and use the number displayed."
   ]
  },
  {
   "cell_type": "code",
   "execution_count": 16,
   "metadata": {
    "collapsed": false
   },
   "outputs": [
    {
     "name": "stdout",
     "output_type": "stream",
     "text": [
      "COMMUNICATION : 38456119.167247385\n",
      "VIDEO_PLAYERS : 24727872.452830188\n",
      "SOCIAL : 23253652.127118643\n",
      "PHOTOGRAPHY : 17840110.40229885\n",
      "PRODUCTIVITY : 16787331.344927534\n",
      "GAME : 15588015.603248259\n",
      "TRAVEL_AND_LOCAL : 13984077.710144928\n",
      "ENTERTAINMENT : 11640705.88235294\n",
      "TOOLS : 10801391.298666667\n",
      "NEWS_AND_MAGAZINES : 9549178.467741935\n",
      "BOOKS_AND_REFERENCE : 8767811.894736841\n",
      "SHOPPING : 7036877.311557789\n",
      "PERSONALIZATION : 5201482.6122448975\n",
      "WEATHER : 5074486.197183099\n",
      "HEALTH_AND_FITNESS : 4188821.9853479853\n",
      "MAPS_AND_NAVIGATION : 4056941.7741935486\n",
      "FAMILY : 3697848.1731343283\n",
      "SPORTS : 3638640.1428571427\n",
      "ART_AND_DESIGN : 1986335.0877192982\n",
      "FOOD_AND_DRINK : 1924897.7363636363\n",
      "EDUCATION : 1833495.145631068\n",
      "BUSINESS : 1712290.1474201474\n",
      "LIFESTYLE : 1437816.2687861272\n",
      "FINANCE : 1387692.475609756\n",
      "HOUSE_AND_HOME : 1331540.5616438356\n",
      "DATING : 854028.8303030303\n",
      "COMICS : 817657.2727272727\n",
      "AUTO_AND_VEHICLES : 647317.8170731707\n",
      "LIBRARIES_AND_DEMO : 638503.734939759\n",
      "PARENTING : 542603.6206896552\n",
      "BEAUTY : 513151.88679245283\n",
      "EVENTS : 253542.22222222222\n",
      "MEDICAL : 120550.61980830671\n"
     ]
    }
   ],
   "source": [
    "# Generating frequency table for unique app genres using \"Category\" column\n",
    "\n",
    "category_freq = freq_table(free_list_android, 1)\n",
    "\n",
    "# Calculating average number of installs for each app genre with nested loop\n",
    "\n",
    "avg_installs_dict = {}\n",
    "for category in category_freq:\n",
    "    total = 0\n",
    "    len_category = 0\n",
    "    for row in free_list_android:\n",
    "        category_app = row[1]\n",
    "        if category_app == category:\n",
    "            installs = row[5]\n",
    "            installs = installs.replace('+', '')\n",
    "            installs = float(installs.replace(',', ''))\n",
    "            total += installs\n",
    "            len_category += 1\n",
    "    avg_installs = total / len_category\n",
    "    avg_installs_dict[category] = avg_installs\n",
    "    \n",
    "table_display = []\n",
    "for key in avg_installs_dict:\n",
    "    key_val_as_tuple = (avg_installs_dict[key], key)\n",
    "    table_display.append(key_val_as_tuple)\n",
    "\n",
    "table_sorted = sorted(table_display, reverse = True)\n",
    "for entry in table_sorted:\n",
    "    print(entry[1], ':', entry[0])\n",
    "   "
   ]
  },
  {
   "cell_type": "markdown",
   "metadata": {},
   "source": [
    "Earlier in our analysis, we saw that there was a fairly even distribution of entertainment-based and utility-based apps on the Google Play store. At first glance, it appears that pattern applies to our list of most-installed app categories. At the top are \"Communication\", \"Video Players\", \"Social\", \"Photography\" and \"Productivity.\" Most of these are self-explanatory, but it's unclear what sorts of apps fall under our top category, \"Communication.\" Let's print the names of the apps in this category to see if we can learn more."
   ]
  },
  {
   "cell_type": "code",
   "execution_count": 17,
   "metadata": {
    "collapsed": false
   },
   "outputs": [
    {
     "name": "stdout",
     "output_type": "stream",
     "text": [
      "['WhatsApp Messenger', 'Messenger for SMS', 'My Tele2', 'imo beta free calls and text', 'Contacts', 'Call Free – Free Call', 'Web Browser & Explorer', 'Browser 4G', 'MegaFon Dashboard', 'ZenUI Dialer & Contacts', 'Cricket Visual Voicemail', 'TracFone My Account', 'Xperia Link™', 'TouchPal Keyboard - Fun Emoji & Android Keyboard', 'Skype Lite - Free Video Call & Chat', 'My magenta', 'Android Messages', 'Google Duo - High Quality Video Calls', 'Seznam.cz', 'Antillean Gold Telegram (original version)', 'AT&T Visual Voicemail', 'GMX Mail', 'Omlet Chat', 'My Vodacom SA', 'Microsoft Edge', 'Messenger – Text and Video Chat for Free', 'imo free video calls and chat', 'Calls & Text by Mo+', 'free video calls and chat', 'Skype - free IM & video calls', 'Who', 'GO SMS Pro - Messenger, Free Themes, Emoji', 'Messaging+ SMS, MMS Free', 'chomp SMS', 'Glide - Video Chat Messenger', 'Text SMS', 'Talkray - Free Calls & Texts', 'LINE: Free Calls & Messages', 'GroupMe', 'mysms SMS Text Messaging Sync', '2ndLine - Second Phone Number', 'Google Chrome: Fast & Secure', 'Firefox Browser fast & private', 'Ninesky Browser', 'Dolphin Browser - Fast, Private & Adblock🐬', 'UC Browser - Fast Download Private & Secure', 'Ghostery Privacy Browser', 'InBrowser - Incognito Browsing', 'Lightning Web Browser', 'Web Browser', 'Contacts+', 'ExDialer - Dialer & Contacts', 'PHONE for Google Voice & GTalk', 'Safest Call Blocker', 'Full Screen Caller ID', 'Hiya - Caller ID & Block', 'Mr. Number-Block calls & spam', 'Should I Answer?', 'RocketDial Dialer & Contacts', 'CIA - Caller ID & Call Blocker', 'Calls Blacklist - Call Blocker', 'Call Control - Call Blocker', 'True Contact - Real Caller ID', 'Video Caller Id', 'Sync.ME – Caller ID & Block', 'Burner - Free Phone Number', 'Caller ID +', 'Gmail', 'K-9 Mail', 'myMail – Email for Hotmail, Gmail and Outlook Mail', 'Email TypeApp - Mail App', 'All Email Providers', 'Newton Mail - Email App for Gmail, Outlook, IMAP', 'GO Notifier', 'Mail.Ru - Email App', 'Mail1Click - Secure Mail', 'Daum Mail - Next Mail', 'mail.com mail', 'SolMail - All-in-One email app', 'Hangouts', 'Vonage Mobile® Call Video Text', 'JusTalk - Free Video Calls and Fun Video Chat', 'Azar', 'LokLok: Draw on a Lock Screen', 'Discord - Chat for Gamers', 'Messenger Lite: Free Calls & Messages', 'AntennaPict β', 'Talkatone: Free Texts, Calls & Phone Number', 'Kik', 'K-@ Mail - Email App', 'KakaoTalk: Free Calls & Text', 'K-9 Material (unofficial)', 'M star Dialer', 'Free WiFi Connect', 'm:go BiH', 'N-Com Wizard', 'Opera Mini - fast web browser', 'Opera Browser: Fast and Secure', 'Opera Mini browser beta', 'Psiphon Pro - The Internet Freedom VPN', 'ICQ — Video Calls & Chat Messenger', 'Telegram', 'AT&T Messages for Tablet', 'T-Mobile DIGITS', 'Truecaller: Caller ID, SMS spam blocking & Dialer', 'Portable Wi-Fi hotspot', 'AT&T Call Protect', 'U - Webinars, Meetings & Messenger', 'UC Browser Mini -Tiny Fast Private & Secure', '/u/app', '[verify-U] VideoIdent', 'Viber Messenger', 'WeChat', 'WhatsApp Business', 'WhatsCall Free Global Phone Call App & Cheap Calls', 'X Browser', 'Yahoo Mail – Stay Organized', 'Free Adblocker Browser - Adblock & Popup Blocker', 'Adblock Browser for Android', 'CM Browser - Ad Blocker , Fast Download , Privacy', 'Adblock Plus for Samsung Internet - Browse safe.', 'Ad Blocker Turbo - Adblocker Browser', 'Brave Browser: Fast AdBlocker', 'AG Contacts, Lite edition', 'Oklahoma Ag Co-op Council', \"Bee'ah Employee App\", 'tournaments and more.aj.2', 'Aj.Petra', 'AK Phone', 'PlacarTv Futebol Ao Vivo', 'WiFi Access Point (hotspot)', 'Access Point Names', 'Puffin Web Browser', 'ClanHQ', 'Ear Agent: Super Hearing', 'Google Voice', 'Google Allo', 'AU Call Blocker - Block Unwanted Calls Texts 2018', 'Baby Monitor AV', 'AV Phone', 'AW - free video calls and chat', 'Katalogen.ax', 'AZ Browser. Private & Download', 'BA SALES', 'BD Data Plan (3G & 4G)', 'BD Internet Packages (Updated)', 'BD Dialer', 'BD Live Call', 'Best Browser BD social networking', 'Traffic signs BD', 'BF Browser by Betfilter - Stop Gambling Today!', 'My BF App', 'BH Mail', 'Zalo – Video Call', 'BJ - Confidential', 'BK Chat', 'Of the wall Arapaho bk', 'AC-BL', 'BBM - Free Calls & Messages', 'DMR BrandMeister Tool', 'BBMoji - Your personalized BBM Stickers', 'BN MALLORCA Radio', 'BQ Partners', 'BS-Mobile', 'ATC Unico BS', 'BT One Voice mobile access', 'BT Messenger', 'BT One Phone Mobile App', 'SW-100.tch by Callstel', 'BT MeetMe with Dolby Voice', 'Bluetooth Auto Connect', 'AudioBT: BT audio GPS/SMS/Text', 'BV', 'Feel Performer', 'Tiny Call Confirm', 'CB Radio Chat - for friends!', 'CB On Mobile', 'Virtual Walkie Talkie', 'Channel 19', 'Cb browser', 'CF Chat: Connecting Friends', 'retteMi.ch', 'Chrome Dev', 'CJ Browser - Fast & Private', 'CJ DVD Rentals', 'CK Call NEW', 'CM Transfer - Share any files with friends nearby', 'mail.co.uk Mail', 'ClanPlay: Community and Tools for Gamers', 'CQ-Mobile', 'CQ-Alert', 'QRZ Assistant', 'Pocket Prefix Plus', 'Ham Radio Prefixes', 'CS Customizer', 'CS Browser | #1 & BEST BROWSER', 'CS Browser Beta', 'My Vodafone (GR)', 'IZ2UUF Morse Koch CW', 'C W Browser', 'CW Bluetooth SPP', 'CW BLE Peripheral Simulator', 'Morse Code Reader', 'Learn Morse Code - G0HYN Learn Morse', 'Ring', 'Hyundai CX Conference', 'Cy Messenger', 'Amadeus GR & CY', 'Hlášenírozhlasu.cz', 'SMS Sender - sluzba.cz', 'WEB.DE Mail', 'Your Freedom VPN Client', 'CallApp: Caller ID, Blocker & Phone Call Recorder', 'Rádio Sol Nascente DF', 'DG Card', 'Whoscall - Caller ID & Block', 'DK Browser', 'cluster.dk', 'DK TEL Dialer', 'DM for WhatsApp', 'DM Talk New', 'DM - The Offical Messaging App', 'DM Tracker', 'Call Blocker & Blacklist', 'ReadyOp DT', 'DU Browser—Browse fast & fun', 'Caller ID & Call Block - DU Caller', 'BlueDV AMBE', 'DW Contacts & Phone & Dialer', 'Deaf World DW', 'Ham DX Cluster & Spots Finder', 'Mircules DX Cluster Lite', '3G DZ Configuration', 'chat dz', 'love sms good morning', 'Goodbox - Mega App', 'Call Blocker - Blacklist, SMS Blocker', '[EF]ShoutBox', 'Eg Call', 'ei', 'EJ messenger', 'Ek IRA', 'Orfox: Tor Browser for Android', 'EO Mumbai', 'EP RSS Reader', 'Voxer Walkie Talkie Messenger', 'ES-1', 'Hangouts Dialer - Call Phones', 'EU Council', 'Council Voting Calculator', 'Have your say on Europe', 'Programi podrške EU', 'Inbox.eu', 'Web Browser for Android', 'Everbridge', 'Best Auto Call Recorder Free', 'EZ Wifi Notification', 'Test Server SMS FA', 'Lite for Facebook Messenger', 'FC Browser - Focus Privacy Browser', 'EHiN-FH conferenceapp', 'Carpooling FH Hagenberg', 'Wi-Fi Auto-connect', 'Talkie - Wi-Fi Calling, Chats, File Sharing', 'WeFi - Free Fast WiFi Connect & Find Wi-Fi Map', 'Sat-Fi', 'Portable Wi-Fi hotspot Free', 'TownWiFi | Wi-Fi Everywhere', 'Jazz Wi-Fi', 'Sat-Fi Voice', 'Free Wi-fi HotspoT', 'FN Web Radio', 'FNH Payment Info', 'MARKET FO', 'FO OP St-Nazaire', 'FO SODEXO', 'FO RCBT', 'FO Interim', 'FO PSA Sept-Fons', 'FO AIRBUS TLSE', 'FO STELIA Méaulte', 'FO AIRBUS Nantes', 'Firefox Focus: The privacy browser', 'FP Connect', 'FreedomPop Messaging Phone/SIM', 'FP Live', 'HipChat - beta version']\n"
     ]
    }
   ],
   "source": [
    "communication_list = []\n",
    "\n",
    "for row in free_list_android:\n",
    "    if row[1] == 'COMMUNICATION':\n",
    "        communication_list.append(row[0])\n",
    "print(communication_list)"
   ]
  },
  {
   "cell_type": "markdown",
   "metadata": {},
   "source": [
    "It appears that \"Communication\" is a very broad category, with everything from web browsers to streaming radio - a mix of entertainment and utility.\n",
    "\n",
    "We could try suggesting an app profile for the Google Play store, but remember that we want a profile that would work for both Android and iOS. Now that we have a list of the most downloaded genres for Google Play, let's compare to the most reviewed apps on iOS to find any points of intersection.\n",
    "\n",
    "#### App Profile Recommendation\n",
    "\n",
    "There are a suprising number of differences between the leading app genres in each list. Let's start with the top two on iOS, \"Navigation\" and \"Reference\"; we can find their equivalents on Android in \"Maps and Navigation\" and \"Books and Reference\", respectively. However, the Android equivalents are ranked much lower: \"Maps and Navigation\" is 16th, and \"Books and Reference\" is 11th. These may not be the best profiles for success on both platforms.\n",
    "\n",
    "Next let's look at the 4th and 5th most popular genres on iOS, \"Music\" and \"Weather\". For \"Music\", the closest category on Android is \"Entertainment\", sitting in 8th place. The problem, though, is that \"Entertainment\" is too broad a category. We can flag this for further investigation, but at this point there's not enough evidence that this would succeed on both platforms. The \"Weather\" genre is also not a great candidate as its Android equivalent is only at 14th place.\n",
    "\n",
    "The most promising genre, based on a high-degree of popularity on both stores, appears to be Social Networking. This category is ranked a very impressive 3rd place on both platforms. One question that comes to mind, though, is how many social apps are generating this kind of popularity? We saw in the frequency tables we generated earlier that social apps were not that common. Is this a case of a handful of massively popular apps driving our metrics up? Let's print a list of the social apps on Android to see."
   ]
  },
  {
   "cell_type": "code",
   "execution_count": 19,
   "metadata": {
    "collapsed": false
   },
   "outputs": [
    {
     "name": "stdout",
     "output_type": "stream",
     "text": [
      "['Facebook', 'Facebook Lite', 'Tumblr', 'Social network all in one 2018', 'Pinterest', 'TextNow - free text + calls', 'Google+', 'The Messenger App', 'Messenger Pro', 'Free Messages, Video, Chat,Text for Messenger Plus', 'Telegram X', 'The Video Messenger App', 'Jodel - The Hyperlocal App', 'Hide Something - Photo, Video', 'Love Sticker', 'Web Browser & Fast Explorer', 'LiveMe - Video chat, new friends, and make money', 'VidStatus app - Status Videos & Status Downloader', 'Love Images', 'Web Browser ( Fast & Secure Web Explorer)', 'SPARK - Live random video chat & meet new people', 'Golden telegram', 'Facebook Local', 'Meet – Talk to Strangers Using Random Video Chat', 'MobilePatrol Public Safety App', '💘 WhatsLov: Smileys of love, stickers and GIF', 'HTC Social Plugin - Facebook', 'Quora', 'Kate Mobile for VK', 'Family GPS tracker KidControl + GPS by SMS Locator', 'Moment', 'Text Me: Text Free, Call Free, Second Phone Number', 'Text Free: WiFi Calling App', 'Badoo - Free Chat & Dating App', 'Text free - Free Text + Call', 'Tango - Live Video Broadcast', 'ooVoo Video Calls, Messaging & Stories', 'Whisper', 'Blogger', \"Bloglovin'\", 'Blogaway for Android (Blogger)', 'Instagram', 'TwitCasting Live', 'Stream - Live Video Community', 'YouNow: Live Stream Video Chat', 'Mirrativ: Live Stream Any App', 'Snapchat', 'Banjo', 'We Heart It', 'MeetMe: Chat & Meet New People', 'Timehop', 'Frontback - Social Photos', 'LinkedIn', 'Path', 'SayHi Chat, Meet New People', 'Tapatalk - 100,000+ Forums', 'Couple - Relationship App', 'Nextdoor - Local neighborhood news & classifieds', 'LOVOO', 'Jaumo Dating, Flirt & Live Video', 'Patook - make platonic friends', 'Zello PTT Walkie Talkie', 'textPlus: Free Text & Calls', 'magicApp Calling & Messaging', 'Dating App, Flirt & Chat : W-Match', 'uCiC- Videos and Photos on demand', 'Meetup', 'POF Free Dating App', 'Tagged - Meet, Chat & Dating', 'SKOUT - Meet, Chat, Go Live', 'Mico- Stranger Chat Random video Chat, Live, Meet', 'Waplog - Free Chat, Dating App, Meet Singles', 'Tik Tok - including musical.ly', 'B-Messenger Video Chat', 'BIGO LIVE - Live Stream', 'Greeting Cards & Wishes', 'Share G - Images Sharing - Wallpapers App', 'H letter images', 'Instachat 😜', 'Fame Boom for Real Followers, Likes', 'FollowMeter for Instagram', 'Mali J', 'KDRAMA Amino for K-Drama Fans', 'KPOP Amino for K-Pop Entertainment', 'EXO-L Amino for EXO Fans', 'Verdad o Reto', 'pixiv', 'Join R, Community Engagement', 'U LIVE – Video Chat & Stream', 'See U - Random video chat, video chat', 'What U See', 'U-Report', 'Meet U - Get Friends for Snapchat, Kik & Instagram', 'VMate Lite - Funny Short Videos Social Network', 'V Bucks ProTips New', 'i-share AF/KLM (AFKL ishare)', 'Eternal Light AG', 'Message AI - Write Better Messages (Free)', 'Jamaa Amino for Animal Jam', 'Legend - Animate Text in Video', 'GUYZ - Gay Chat & Gay Dating', 'eChallan Andhra Pradesh (AP)', 'Snaappy – 3D fun AR core communication platform', 'Undertale AU Amino', 'Au Pair', 'Media Sosial TNI AU', 'BA 3 Banjarmasin', 'iCard BD Plus', 'Movement BE', 'YAY - TBH', 'Find My Friends', 'BG LINKED (BGLINKED)', 'Zdravei.BG', 'BGKontakti London BG Kontakti', 'BGKontakti Bayern BG Kontakti', 'BGKontakti Vienna BG Kontakti', 'Discípulos em BH', 'BH Connect', 'Gayvox - Gay Lesbian Bi Dating', 'Grindr - Gay chat', 'Lesbian Chat & Dating - SPICY', 'Alumni BJ', 'VK', 'BK Traffic Control cum Chart', 'Daily Murli Saar Widget', 'Myjob@BM', 'bm-Events', 'BOO! - Next Generation Messenger', 'Wishbone - Compare Anything', 'BR Chat Bot', 'Br Browser', 'Dr B R Ambedkar (Jai Bhim)', 'Dr. B.R.Ambedkar', 'Black Social', 'BT Communicator', 'BT Dating -Find your match, help cupid, be social', 'Fiesta by Tango - Find, Meet and Make New Friends', 'Evasion.bz', 'CB Heroes', 'CG Districts', 'Digi-TV.ch', 'Students.ch', 'CJ Gospel Hour', 'Pekalongan CJ', 'Hashtags For Likes.co', 'CP Dialer', 'C.P. CERVANTES (TOBARRA)', 'Cyprus Police', 'Rande.cz', 'signály.cz', 'DB Event App', 'DC Comics Amino', 'DF BugMeNot', 'Noticias DF', 'Periscope - Live Video', 'Daddyhunt: Gay Dating', 'Free phone calls, free texting SMS on free number', 'Phone Tracker : Family Locator', 'HOLLA Live: Meet New People via Random Video Chat', 'Dating.dk', 'DK Murali', 'GirlTalk.dk', '+Download 4 Instagram Twitter', 'DM Me - Chat', 'DM for IG 😘 - Image & Video Saver for Instagram', 'Auto DM for Twitter 🔥', 'DM Storage (for twitter)', 'Fake Chat (Direct Message)', 'Otto DM', 'DN Blog', 'DP and Status for WhatsApp 2018', 'Dp For Whatsapp', 'Profile Pictures and DP for Whatsapp', 'Dp for Facebook', 'Best DP and Status', 'Instant DP Downloader for Instagram', 'DP Display Pictures Life Quotes Motivational GM', 'Qeek for Instagram - Zoom profile insta DP', 'DV Statistics', 'DW Streaming', 'News Dz', 'quran-DZ', 'TN e Sevai TN EB Bill Patta Citta EC Birth All Hub', 'TNEB Bill Online Payment (Tamil)', 'UP EB Bill Payment & Details', 'TN EC Online New', 'TN Patta /Chitta /EC New', 'EG Way Life', 'Equestria Amino for MLP', 'Ek Maratha', 'Hum Ek Hain 2.02', 'Sabka Malik Ek Sai', 'EO RAIPUR', 'Anime et Manga Amino en Français', 'Hornet - Gay Social Network', 'Amino: Communities and Chats', 'European Solidarity Corps', 'Reisedealz.eu', 'Eddsworld Amino', 'Rejoin Your Ex', 'Amleen Ey', 'Coupe Adhémar EY 2017', 'EZ Video Download for Facebook', 'Messages, Text and Video Chat for Messenger', 'All Social Networks', 'Messenger Messenger', 'Facebook Creator', 'Swift for Facebook Lite', 'Friendly for Facebook', 'Faster for Facebook Lite', 'Puffin for Facebook', 'Profile Tracker - Who Viewed My Facebook Profile', 'Pink Color for Facebook', 'Messenger', 'Stickers for Imo, fb, whatsapp', 'Who Viewed My Facebook Profile - Stalkers Visitors', 'Downloader plus for FB', 'MB Notifications for FB (Free)', 'Phoenix - Facebook & Messenger', 'Faster Social for Facebook', 'Check Your Visitors on FB ?', 'Stickers for Facebook', 'Lite Messenger for Facebook Lite', 'Mini for Facebook lite', 'FB Advanced Search', 'funny Image Comments for FB', 'Unlimited Group Links - Whatsapp, FB, Telegram', 'FCB Connect - FC Barcelona', 'Frases Cristianas de Esperanza y Fe', 'FutureNet your social app', 'Alarm.fo – choose your info', 'FunForMobile Ringtones & Chat', 'Chat For Strangers - Video Chat', 'Fr Daoud Lamei', 'Naruto & Boruto FR', 'Frim: get new friends on local chat rooms']\n"
     ]
    }
   ],
   "source": [
    "social_list = []\n",
    "\n",
    "for row in free_list_android:\n",
    "    if row[1] == 'SOCIAL':\n",
    "        social_list.append(row[0])\n",
    "print(social_list)"
   ]
  },
  {
   "cell_type": "markdown",
   "metadata": {},
   "source": [
    "We can see that there are many apps in the social category, at least on Android, so that alleviates one concern. We also want to ensure that majority of the installs aren't coming from a few major apps."
   ]
  },
  {
   "cell_type": "markdown",
   "metadata": {},
   "source": [
    "#### Next Steps\n",
    "\n",
    "Our project is almost complete, but we need to investigate the social category further by looking at install and rating information in more detail."
   ]
  }
 ],
 "metadata": {
  "kernelspec": {
   "display_name": "Python 3",
   "language": "python",
   "name": "python3"
  },
  "language_info": {
   "codemirror_mode": {
    "name": "ipython",
    "version": 3
   },
   "file_extension": ".py",
   "mimetype": "text/x-python",
   "name": "python",
   "nbconvert_exporter": "python",
   "pygments_lexer": "ipython3",
   "version": "3.4.3"
  }
 },
 "nbformat": 4,
 "nbformat_minor": 2
}
